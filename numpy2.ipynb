{
  "nbformat": 4,
  "nbformat_minor": 0,
  "metadata": {
    "colab": {
      "provenance": [],
      "authorship_tag": "ABX9TyO9wfEcnjedp1OJYg6gsgdU",
      "include_colab_link": true
    },
    "kernelspec": {
      "name": "python3",
      "display_name": "Python 3"
    },
    "language_info": {
      "name": "python"
    }
  },
  "cells": [
    {
      "cell_type": "markdown",
      "metadata": {
        "id": "view-in-github",
        "colab_type": "text"
      },
      "source": [
        "<a href=\"https://colab.research.google.com/github/AndyJVM/AI2023_AndyVera/blob/main/numpy2.ipynb\" target=\"_parent\"><img src=\"https://colab.research.google.com/assets/colab-badge.svg\" alt=\"Open In Colab\"/></a>"
      ]
    },
    {
      "cell_type": "code",
      "execution_count": null,
      "metadata": {
        "colab": {
          "base_uri": "https://localhost:8080/"
        },
        "id": "9y0wEa7D47IH",
        "outputId": "e1ea8e86-533b-42ba-da44-ba462a223618"
      },
      "outputs": [
        {
          "output_type": "stream",
          "name": "stdout",
          "text": [
            "[[8 7 4 4]\n",
            " [6 6 9 6]\n",
            " [4 2 7 6]]\n",
            "(3, 4)\n",
            "[[ 4  5 10  9]\n",
            " [ 2  4  4  3]\n",
            " [ 3  2  9  2]]\n",
            "(3, 4)\n",
            "adding numbers\n",
            "[[12 12 14 13]\n",
            " [ 8 10 13  9]\n",
            " [ 7  4 16  8]]\n",
            "subtracting numbers\n",
            "[[ 4  2 -6 -5]\n",
            " [ 4  2  5  3]\n",
            " [ 1  0 -2  4]]\n",
            "multiplier numbers\n",
            "[[32 35 40 36]\n",
            " [12 24 36 18]\n",
            " [12  4 63 12]]\n",
            "[[12 12 14 13]\n",
            " [ 8 10 13  9]\n",
            " [ 7  4 16  8]]\n",
            "[[32 35 40 36]\n",
            " [12 24 36 18]\n",
            " [12  4 63 12]]\n",
            "[[2.         1.4        0.4        0.44444444]\n",
            " [3.         1.5        2.25       2.        ]\n",
            " [1.33333333 1.         0.77777778 3.        ]]\n"
          ]
        }
      ],
      "source": [
        "import numpy as np\n",
        "a= np.random.randint(1, 11, (3, 4))\n",
        "b= np.random.randint(1, 11, (3, 4))\n",
        "print(a)\n",
        "print(a.shape)\n",
        "print(b)\n",
        "print(b.shape)\n",
        "print('adding numbers')\n",
        "print(a+b)\n",
        "print('subtracting numbers')\n",
        "print(a-b)\n",
        "print('multiplier numbers')\n",
        "print(a*b)\n",
        "\n",
        "\n",
        "print(np.add(a,b))\n",
        "print(np.multiply(a,b))\n",
        "print(np.divide(a,b))"
      ]
    },
    {
      "cell_type": "code",
      "source": [
        "a = np.random.randint(1, 11, size=(2, 3))\n",
        "b = np.random.randint(1, 11, size=(3, 4 ))\n",
        "\n",
        "print(a)\n",
        "print(a.shape)\n",
        "print(b)\n",
        "print(b.shape)\n",
        "print(np.dot(a,b))\n",
        "\n"
      ],
      "metadata": {
        "colab": {
          "base_uri": "https://localhost:8080/"
        },
        "id": "JHJPOXMR9Rve",
        "outputId": "ebdd9c0b-9969-4b10-9957-e3dc148573d5"
      },
      "execution_count": null,
      "outputs": [
        {
          "output_type": "stream",
          "name": "stdout",
          "text": [
            "[[1 9 2]\n",
            " [9 8 5]]\n",
            "(2, 3)\n",
            "[[5 4 9 3]\n",
            " [5 9 9 3]\n",
            " [7 1 1 6]]\n",
            "(3, 4)\n",
            "[[ 64  87  92  42]\n",
            " [120 113 158  81]]\n"
          ]
        }
      ]
    },
    {
      "cell_type": "code",
      "source": [
        "a= np.random.randint(1, 11, (2, 2))\n",
        "print(a.shape)\n",
        "print(type(a))\n",
        "print(a)\n",
        "print(a.T)"
      ],
      "metadata": {
        "colab": {
          "base_uri": "https://localhost:8080/"
        },
        "id": "qs8IKXfh-zxv",
        "outputId": "d55680d9-3bbc-4087-c556-511de573ced6"
      },
      "execution_count": null,
      "outputs": [
        {
          "output_type": "stream",
          "name": "stdout",
          "text": [
            "(2, 2)\n",
            "<class 'numpy.ndarray'>\n",
            "[[1 3]\n",
            " [1 2]]\n",
            "[[1 1]\n",
            " [3 2]]\n"
          ]
        }
      ]
    },
    {
      "cell_type": "code",
      "source": [
        "a= np.random.randint(1, 11, (4, 3))\n",
        "b= np.array((1,0,2))\n",
        "print(a)\n",
        "print(a.shape)\n",
        "print(b)\n",
        "print(b.shape)\n",
        "\n",
        "c=np.empty_like(a)\n",
        "\n",
        "print(c.shape)\n",
        "print('----------------')\n",
        "print(c)"
      ],
      "metadata": {
        "colab": {
          "base_uri": "https://localhost:8080/"
        },
        "id": "WGovJg1T_vny",
        "outputId": "219dbb0a-a52e-42c4-cbc6-0e087f9237c2"
      },
      "execution_count": null,
      "outputs": [
        {
          "output_type": "stream",
          "name": "stdout",
          "text": [
            "[[ 7  1  6]\n",
            " [10  7  3]\n",
            " [ 3  5  3]\n",
            " [ 8  3  3]]\n",
            "(4, 3)\n",
            "[1 0 2]\n",
            "(3,)\n",
            "(4, 3)\n",
            "----------------\n",
            "[[ 9  5  8]\n",
            " [10 10  8]\n",
            " [10  8  9]\n",
            " [ 3  7  9]]\n"
          ]
        }
      ]
    },
    {
      "cell_type": "code",
      "source": [
        "for i in range(4):\n",
        "  c[i,:]=a[i,:]+b\n",
        "\n",
        "print(a)\n",
        "print(b)\n",
        "print(c)\n",
        "\n",
        "c=a+b\n",
        "print(c)\n"
      ],
      "metadata": {
        "colab": {
          "base_uri": "https://localhost:8080/"
        },
        "id": "BWY1-_AHBonb",
        "outputId": "d94ed503-644a-431b-ed76-09aaee2224b0"
      },
      "execution_count": null,
      "outputs": [
        {
          "output_type": "stream",
          "name": "stdout",
          "text": [
            "[[ 7  1  6]\n",
            " [10  7  3]\n",
            " [ 3  5  3]\n",
            " [ 8  3  3]]\n",
            "[1 0 2]\n",
            "[[ 8  1  8]\n",
            " [11  7  5]\n",
            " [ 4  5  5]\n",
            " [ 9  3  5]]\n",
            "[[ 8  1  8]\n",
            " [11  7  5]\n",
            " [ 4  5  5]\n",
            " [ 9  3  5]]\n"
          ]
        }
      ]
    },
    {
      "cell_type": "code",
      "source": [
        "a=np.array((1,2,3))\n",
        "\n",
        "print(a)\n",
        "tmp=np.tile(a,(6,1))\n",
        "print(tmp)\n"
      ],
      "metadata": {
        "colab": {
          "base_uri": "https://localhost:8080/"
        },
        "id": "gAzxfF4dC_2Y",
        "outputId": "6c02c381-c0d1-413e-d560-2ccb57a8918b"
      },
      "execution_count": null,
      "outputs": [
        {
          "output_type": "stream",
          "name": "stdout",
          "text": [
            "[1 2 3]\n",
            "[[1 2 3]\n",
            " [1 2 3]\n",
            " [1 2 3]\n",
            " [1 2 3]\n",
            " [1 2 3]\n",
            " [1 2 3]]\n"
          ]
        }
      ]
    },
    {
      "cell_type": "code",
      "source": [
        "a= np.random.randint(0,10 , (6, 6))\n",
        "print(a)\n",
        "aux=np.mean(a)\n",
        "print(aux)\n",
        "\n",
        "print(a.mean(axis=1))\n",
        "print(a.mean(axis=0))\n"
      ],
      "metadata": {
        "colab": {
          "base_uri": "https://localhost:8080/"
        },
        "id": "evpF08jlFxnx",
        "outputId": "eaf24a05-729f-48a5-8a83-92be858f6b29"
      },
      "execution_count": null,
      "outputs": [
        {
          "output_type": "stream",
          "name": "stdout",
          "text": [
            "[[7 8 8 2 3 3]\n",
            " [5 8 9 9 4 8]\n",
            " [9 6 0 1 8 1]\n",
            " [6 1 0 4 4 6]\n",
            " [2 3 8 3 5 7]\n",
            " [2 2 4 4 5 5]]\n",
            "4.722222222222222\n",
            "[5.16666667 7.16666667 4.16666667 3.5        4.66666667 3.66666667]\n",
            "[5.16666667 4.66666667 4.83333333 3.83333333 4.83333333 5.        ]\n"
          ]
        }
      ]
    }
  ]
}